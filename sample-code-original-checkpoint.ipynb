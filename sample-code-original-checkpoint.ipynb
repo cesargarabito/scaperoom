{
 "cells": [
  {
   "cell_type": "code",
   "execution_count": null,
   "metadata": {},
   "outputs": [
    {
     "name": "stdout",
     "output_type": "stream",
     "text": [
      "You are in the Game Room. You see a couch, a piano, and Door A.\n",
      "What would you like to do?\n",
      "1. Examine items\n",
      "2. Examine doors\n",
      "3. Move to another room\n"
     ]
    },
    {
     "name": "stdin",
     "output_type": "stream",
     "text": [
      ">  1\n"
     ]
    },
    {
     "name": "stdout",
     "output_type": "stream",
     "text": [
      "You examine the couch and find: nothing\n",
      "You examine the piano and find: key for Door A\n",
      "You picked up a key!\n",
      "You are in the Game Room. You see a couch, a piano, and Door A.\n",
      "What would you like to do?\n",
      "1. Examine items\n",
      "2. Examine doors\n",
      "3. Move to another room\n"
     ]
    },
    {
     "name": "stdin",
     "output_type": "stream",
     "text": [
      ">  2\n"
     ]
    },
    {
     "name": "stdout",
     "output_type": "stream",
     "text": [
      "Door A is locked.\n",
      "You are in the Game Room. You see a couch, a piano, and Door A.\n",
      "What would you like to do?\n",
      "1. Examine items\n",
      "2. Examine doors\n",
      "3. Move to another room\n"
     ]
    },
    {
     "name": "stdin",
     "output_type": "stream",
     "text": [
      ">  3\n"
     ]
    },
    {
     "name": "stdout",
     "output_type": "stream",
     "text": [
      "You unlock Door A with your key!\n"
     ]
    },
    {
     "name": "stdin",
     "output_type": "stream",
     "text": [
      "Enter the name of the door you want to go through:  2\n"
     ]
    },
    {
     "name": "stdout",
     "output_type": "stream",
     "text": [
      "That door is locked or invalid. Try again.\n",
      "You are in the Game Room. You see a couch, a piano, and Door A.\n",
      "What would you like to do?\n",
      "1. Examine items\n",
      "2. Examine doors\n",
      "3. Move to another room\n"
     ]
    },
    {
     "name": "stdin",
     "output_type": "stream",
     "text": [
      ">  Bedroom 3\n"
     ]
    },
    {
     "name": "stdout",
     "output_type": "stream",
     "text": [
      "Invalid choice. Try again.\n",
      "You are in the Game Room. You see a couch, a piano, and Door A.\n",
      "What would you like to do?\n",
      "1. Examine items\n",
      "2. Examine doors\n",
      "3. Move to another room\n"
     ]
    },
    {
     "name": "stdin",
     "output_type": "stream",
     "text": [
      ">  2\n"
     ]
    },
    {
     "name": "stdout",
     "output_type": "stream",
     "text": [
      "Door A is unlocked.\n",
      "You are in the Game Room. You see a couch, a piano, and Door A.\n",
      "What would you like to do?\n",
      "1. Examine items\n",
      "2. Examine doors\n",
      "3. Move to another room\n"
     ]
    }
   ],
   "source": [
    "# Define the rooms and their details\n",
    "rooms = {\n",
    "    \"Game Room\": {\n",
    "        \"description\": \"You are in the Game Room. You see a couch, a piano, and Door A.\",\n",
    "        \"items\": {\"couch\": \"nothing\", \"piano\": \"key for Door A\"},\n",
    "        \"doors\": {\"Door A\": \"locked\"}\n",
    "    },\n",
    "    \"Bedroom 1\": {\n",
    "        \"description\": \"You are in Bedroom 1. You see a queen bed, Door A, Door B, and Door C.\",\n",
    "        \"items\": {\"queen bed\": \"key for Door B\"},\n",
    "        \"doors\": {\"Door B\": \"locked\", \"Door C\": \"locked\"}\n",
    "    },\n",
    "    \"Bedroom 2\": {\n",
    "        \"description\": \"You are in Bedroom 2. You see a double bed, a dresser, and Door B.\",\n",
    "        \"items\": {\"double bed\": \"key for Door C\", \"dresser\": \"key for Door D\"},\n",
    "        \"doors\": {\"Door B\": \"unlocked\"}\n",
    "    },\n",
    "    \"Living Room\": {\n",
    "        \"description\": \"You are in the Living Room. You see a dining table, Door C, and Door D.\",\n",
    "        \"items\": {},\n",
    "        \"doors\": {\"Door D\": \"locked\"}\n",
    "    },\n",
    "    \"Outside\": {\n",
    "        \"description\": \"Congrats! You escaped the room!\",\n",
    "        \"items\": {},\n",
    "        \"doors\": {}\n",
    "    }\n",
    "}\n",
    "\n",
    "# Define the initial game state\n",
    "game_state = {\n",
    "    \"current_room\": \"Game Room\",\n",
    "    \"inventory\": []\n",
    "}\n",
    "\n",
    "# Function to explore the current room\n",
    "def explore_room():\n",
    "    current_room = game_state[\"current_room\"]\n",
    "    print(rooms[current_room][\"description\"])\n",
    "    print(\"What would you like to do?\")\n",
    "    print(\"1. Examine items\")\n",
    "    print(\"2. Examine doors\")\n",
    "    print(\"3. Move to another room\")\n",
    "    action = input(\"> \")\n",
    "    if action == \"1\":\n",
    "        examine_items()\n",
    "    elif action == \"2\":\n",
    "        examine_doors()\n",
    "    elif action == \"3\":\n",
    "        move_to_next_room()\n",
    "    else:\n",
    "        print(\"Invalid choice. Try again.\")\n",
    "        explore_room()\n",
    "\n",
    "# Function to examine items\n",
    "def examine_items():\n",
    "    current_room = game_state[\"current_room\"]\n",
    "    items = rooms[current_room][\"items\"]\n",
    "    if not items:\n",
    "        print(\"There are no items to examine here.\")\n",
    "    else:\n",
    "        for item, value in items.items():\n",
    "            print(f\"You examine the {item} and find: {value}\")\n",
    "            if \"key\" in value:\n",
    "                print(\"You picked up a key!\")\n",
    "                game_state[\"inventory\"].append(value)\n",
    "    explore_room()\n",
    "\n",
    "# Function to examine doors\n",
    "def examine_doors():\n",
    "    current_room = game_state[\"current_room\"]\n",
    "    doors = rooms[current_room][\"doors\"]\n",
    "    for door, status in doors.items():\n",
    "        print(f\"{door} is {status}.\")\n",
    "    explore_room()\n",
    "\n",
    "# Function to move to another room\n",
    "def move_to_next_room():\n",
    "    current_room = game_state[\"current_room\"]\n",
    "    if current_room == \"Outside\":\n",
    "        print(\"You are already outside. Game over!\")\n",
    "        return\n",
    "    doors = rooms[current_room][\"doors\"]\n",
    "    for door, status in doors.items():\n",
    "        if \"locked\" in status and f\"key for {door}\" in game_state[\"inventory\"]:\n",
    "            print(f\"You unlock {door} with your key!\")\n",
    "            rooms[current_room][\"doors\"][door] = \"unlocked\"\n",
    "    next_room = input(\"Enter the name of the door you want to go through: \")\n",
    "    if next_room in doors and doors[next_room] == \"unlocked\":\n",
    "        game_state[\"current_room\"] = next_room.split()[1]  # Move to the next room\n",
    "        print(f\"You moved to {game_state['current_room']}.\")\n",
    "    else:\n",
    "        print(\"That door is locked or invalid. Try again.\")\n",
    "    explore_room()\n",
    "\n",
    "# Main game loop\n",
    "def play_game():\n",
    "    while game_state[\"current_room\"] != \"Outside\":\n",
    "        explore_room()\n",
    "    print(rooms[\"Outside\"][\"description\"])\n",
    "\n",
    "# Start the game\n",
    "play_game()\n"
   ]
  },
  {
   "cell_type": "code",
   "execution_count": null,
   "metadata": {},
   "outputs": [
    {
     "name": "stdout",
     "output_type": "stream",
     "text": [
      "You wake up on a couch and find yourself in a strange house with no windows which you have never been to before. You don't remember why you are here and what had happened before. You feel some unknown danger is approaching and you must get out of the house, NOW!\n",
      "You are now in game room\n",
      "What would you like to do? Type 'explore' or 'examine'?explore\n",
      "You explore the room. This is game room. You find couch, piano, door a\n",
      "You are now in game room\n"
     ]
    }
   ],
   "source": [
    "game_state = INIT_GAME_STATE.copy()\n",
    "\n",
    "start_game()"
   ]
  },
  {
   "cell_type": "code",
   "execution_count": null,
   "metadata": {},
   "outputs": [],
   "source": []
  }
 ],
 "metadata": {
  "kernelspec": {
   "display_name": "Python 3 (ipykernel)",
   "language": "python",
   "name": "python3"
  },
  "language_info": {
   "codemirror_mode": {
    "name": "ipython",
    "version": 3
   },
   "file_extension": ".py",
   "mimetype": "text/x-python",
   "name": "python",
   "nbconvert_exporter": "python",
   "pygments_lexer": "ipython3",
   "version": "3.12.7"
  }
 },
 "nbformat": 4,
 "nbformat_minor": 4
}
